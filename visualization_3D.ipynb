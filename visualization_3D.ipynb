{
 "cells": [
  {
   "cell_type": "code",
   "execution_count": null,
   "id": "08e395e8",
   "metadata": {},
   "outputs": [],
   "source": [
    "import utils\n",
    "import numpy as np\n",
    "import cv2\n",
    "import open3d as o3d\n",
    "import time\n",
    "import os\n",
    "import pandas as pd"
   ]
  },
  {
   "cell_type": "code",
   "execution_count": null,
   "id": "bfe3dad9",
   "metadata": {},
   "outputs": [],
   "source": [
    "# MODEL_NAME = 'PSMNet'\n",
    "# MODEL_PATH = 'PSMNet\\\\pretrained\\\\pretrained_sceneflow_new.tar'\n",
    "MODEL_NAME = 'RAFT-Stereo'\n",
    "MODEL_PATH = \"RAFT-Stereo/models/raftstereo-realtime.pth\"\n",
    "\n",
    "FRAME_NAME = \"frame_1.png\"\n",
    "\n",
    "TEST_LEFT_IMG = \"G:\\My Drive\\Dataset\\davinci_Xi_05282025\\KidneyORXI\\calibration_images\\cam1_cropped\\\\frame_1.png\"\n",
    "TEST_RIGHT_IMG = \"G:\\My Drive\\Dataset\\davinci_Xi_05282025\\KidneyORXI\\calibration_images\\cam2_cropped\\\\frame_1.png\"\n",
    "\n",
    "# stereo_params is from SystemCalibration (npz file with K/D/R/T/R_L/R_R/P_L/P_R/Q)\n",
    "stereo_params = np.load('stereo_params.npz')\n",
    "IMG_SIZE = (894, 714)"
   ]
  },
  {
   "cell_type": "code",
   "execution_count": null,
   "id": "e5c934f3",
   "metadata": {},
   "outputs": [],
   "source": [
    "# Load model\n",
    "model = utils.load_model(MODEL_NAME, MODEL_PATH)"
   ]
  },
  {
   "cell_type": "code",
   "execution_count": null,
   "id": "bc2673bf",
   "metadata": {},
   "outputs": [],
   "source": [
    "# Calculate Undistortion and Rectification Remapping\n",
    "K_L = stereo_params['K_L']\n",
    "D_L = stereo_params['D_L']\n",
    "K_R = stereo_params['K_R']\n",
    "D_R = stereo_params['D_R']\n",
    "R_L = stereo_params['R_L']\n",
    "R_R = stereo_params['R_R']\n",
    "P_L = stereo_params['P_L']\n",
    "P_R = stereo_params['P_R']\n",
    "Q = stereo_params['Q']\n",
    "\n",
    "mapL1, mapL2 = cv2.initUndistortRectifyMap(K_L, D_L, R_L, P_L, IMG_SIZE, cv2.CV_16SC2)\n",
    "mapR1, mapR2 = cv2.initUndistortRectifyMap(K_R, D_R, R_R, P_R, IMG_SIZE, cv2.CV_16SC2)"
   ]
  },
  {
   "cell_type": "code",
   "execution_count": null,
   "id": "c6d4e667",
   "metadata": {},
   "outputs": [],
   "source": [
    "imgL = cv2.imread(TEST_LEFT_IMG,  cv2.IMREAD_COLOR)\n",
    "imgR = cv2.imread(TEST_RIGHT_IMG, cv2.IMREAD_COLOR)\n",
    "\n",
    "# Disparity (use utils to keep the pipeline consistent)\n",
    "disp = utils.compute_disparity(\n",
    "            MODEL_NAME, model,\n",
    "            TEST_LEFT_IMG, TEST_RIGHT_IMG,\n",
    "            mapL1, mapL2, mapR1, mapR2\n",
    "        )\n",
    "\n",
    "# Point cloud (rectified-left frame)\n",
    "pcd = utils.generate_pointcloud(\n",
    "            MODEL_NAME, disp, TEST_LEFT_IMG, mapL1, mapL2, stereo_params['Q']\n",
    "        )\n"
   ]
  },
  {
   "cell_type": "code",
   "execution_count": null,
   "id": "a9b043cf",
   "metadata": {},
   "outputs": [],
   "source": [
    "# CT stl path\n",
    "STL_FILES = []\n",
    "STL_PATH = \"G:\\My Drive\\Dataset\\stl\"\n",
    "for file in os.listdir(STL_PATH):\n",
    "    if file.endswith('.vtk') or file.endswith('.stl'):\n",
    "        STL_FILES.append(file)\n",
    "print(STL_FILES)\n",
    "\n",
    "BF_to_EN_test = np.load(\"BF_to_EN_test.npy\")\n",
    "BF_to_EN_old  = np.load(\"BF_to_EN_old.npy\")\n",
    "\n",
    "CT_to_OT = np.array([[-0.0102021,-0.998141,0.0600825,-67.1015],\n",
    "                        [0.99575,-0.0156413,-0.0907656,-492.36],\n",
    "                        [0.0915366,0.0589012,0.994058,1882.09],\n",
    "                        [0,0,0,1]])"
   ]
  },
  {
   "cell_type": "code",
   "execution_count": null,
   "id": "88ca8f91",
   "metadata": {},
   "outputs": [],
   "source": [
    "OT_TRANS_PATH = \"G:\\My Drive\\Dataset\\davinci_Xi_05282025\\KidneyORXI\\calibration_images\" + \"\\\\transforms.csv\"\n",
    "OT_transformations = pd.read_csv(OT_TRANS_PATH)\n",
    "temp = OT_transformations[OT_transformations[' frame name'] == FRAME_NAME]\n",
    "OT_to_BF_raw = temp[temp['Tool Type'] == 'E']\n",
    "OT_to_BF_qt = OT_to_BF_raw[['q0','qx', 'qy', 'qz', 'tx', 'ty', 'tz']]"
   ]
  },
  {
   "cell_type": "code",
   "execution_count": null,
   "id": "e0492669",
   "metadata": {},
   "outputs": [],
   "source": [
    "pcd, mesh_CT = utils.transform_CTMR(STL_PATH, STL_FILES, OT_to_BF_qt, BF_to_EN_test, pcd, CT_to_OT)"
   ]
  },
  {
   "cell_type": "code",
   "execution_count": null,
   "id": "8eb5b8b9",
   "metadata": {},
   "outputs": [],
   "source": [
    "utils.visualize_pcd_mesh(\n",
    "    pcd, mesh_CT,\n",
    "    front=(0.0, 0.0, 0.001),\n",
    "    lookat=(0.0, 0.0, 0.0),\n",
    "    up=(0.0, 1.0, 0.0),\n",
    "    zoom=0.7\n",
    ")"
   ]
  }
 ],
 "metadata": {
  "kernelspec": {
   "display_name": "raftstereo",
   "language": "python",
   "name": "python3"
  },
  "language_info": {
   "codemirror_mode": {
    "name": "ipython",
    "version": 3
   },
   "file_extension": ".py",
   "mimetype": "text/x-python",
   "name": "python",
   "nbconvert_exporter": "python",
   "pygments_lexer": "ipython3",
   "version": "3.10.16"
  }
 },
 "nbformat": 4,
 "nbformat_minor": 5
}
