{
 "cells": [
  {
   "cell_type": "code",
   "execution_count": null,
   "id": "08e395e8",
   "metadata": {},
   "outputs": [],
   "source": [
    "import utils\n",
    "import numpy as np\n",
    "import cv2\n",
    "import open3d as o3d\n",
    "import time\n",
    "import os\n",
    "import pandas as pd"
   ]
  },
  {
   "cell_type": "code",
   "execution_count": null,
   "id": "ff71d0bd",
   "metadata": {},
   "outputs": [],
   "source": [
    "# Input No. 1 Model for Disparity Estimation - Load ONCE\n",
    "MODEL_NAME = 'RAFT-Stereo'\n",
    "MODEL_PATH = \"RAFT-Stereo/models/raftstereo-realtime.pth\"\n",
    "model = utils.load_model(MODEL_NAME, MODEL_PATH)"
   ]
  },
  {
   "cell_type": "code",
   "execution_count": null,
   "id": "91f11ac3",
   "metadata": {},
   "outputs": [],
   "source": [
    "# Input No. 2 Stereo Camera Parameters - Load ONCE\n",
    "stereo_params = np.load('stereo_params.npz')\n",
    "IMG_SIZE = (894, 714)\n",
    "# Calculate Undistortion and Rectification Remapping\n",
    "K_L = stereo_params['K_L']\n",
    "D_L = stereo_params['D_L']\n",
    "K_R = stereo_params['K_R']\n",
    "D_R = stereo_params['D_R']\n",
    "R_L = stereo_params['R_L']\n",
    "R_R = stereo_params['R_R']\n",
    "P_L = stereo_params['P_L']\n",
    "P_R = stereo_params['P_R']\n",
    "Q = stereo_params['Q']\n",
    "\n",
    "mapL1, mapL2 = cv2.initUndistortRectifyMap(K_L, D_L, R_L, P_L, IMG_SIZE, cv2.CV_16SC2)\n",
    "mapR1, mapR2 = cv2.initUndistortRectifyMap(K_R, D_R, R_R, P_R, IMG_SIZE, cv2.CV_16SC2)"
   ]
  },
  {
   "cell_type": "code",
   "execution_count": null,
   "id": "f2cc1006",
   "metadata": {},
   "outputs": [],
   "source": [
    "# Input No. 3 3D CT/Model Files - Load ONCE\n",
    "STL_FILES = []\n",
    "STL_PATH = \"G:\\My Drive\\Dataset\\stl\"\n",
    "for file in os.listdir(STL_PATH):\n",
    "    if file.endswith('.vtk') or file.endswith('.stl'):\n",
    "        STL_FILES.append(file)"
   ]
  },
  {
   "cell_type": "code",
   "execution_count": null,
   "id": "bad6edc3",
   "metadata": {},
   "outputs": [],
   "source": [
    "# Input No. 4 Buffly to Endoscope Transformation (from System Calibration) - Load ONCE\n",
    "BF_to_EN_test = np.load(\"BF_to_EN_test.npy\")"
   ]
  },
  {
   "cell_type": "code",
   "execution_count": null,
   "id": "201e231f",
   "metadata": {},
   "outputs": [],
   "source": [
    "# Input No. 5 CT to OT Transformation (from CT/MR Registration) - Load ONCE\n",
    "CT_to_OT = np.array([[-0.0102021,-0.998141,0.0600825,-67.1015],\n",
    "                        [0.99575,-0.0156413,-0.0907656,-492.36],\n",
    "                        [0.0915366,0.0589012,0.994058,1882.09],\n",
    "                        [0,0,0,1]])"
   ]
  },
  {
   "cell_type": "markdown",
   "id": "3df7b8fd",
   "metadata": {},
   "source": [
    "# The following should be running and updating in REAL-TIME using loop or so"
   ]
  },
  {
   "cell_type": "code",
   "execution_count": null,
   "id": "1ca15802",
   "metadata": {},
   "outputs": [],
   "source": [
    "# Input No. 6 Stereo Images\n",
    "# Here we just read from local files for testing\n",
    "TEST_LEFT_IMG = \"G:\\My Drive\\Dataset\\davinci_Xi_05282025\\KidneyORXI\\calibration_images\\cam1_cropped\\\\frame_15.png\"\n",
    "TEST_RIGHT_IMG = \"G:\\My Drive\\Dataset\\davinci_Xi_05282025\\KidneyORXI\\calibration_images\\cam2_cropped\\\\frame_15.png\""
   ]
  },
  {
   "cell_type": "code",
   "execution_count": null,
   "id": "a3014ece",
   "metadata": {},
   "outputs": [],
   "source": [
    "FRAMENAME = os.path.basename(TEST_LEFT_IMG)\n",
    "OT_TRANS_PATH = \"G:\\My Drive\\Dataset\\davinci_Xi_05282025\\KidneyORXI\\calibration_images\" + \"\\\\transforms.csv\"\n",
    "OT_transformations = pd.read_csv(OT_TRANS_PATH)\n",
    "datapoint = OT_transformations[OT_transformations[' frame name'] == FRAMENAME]\n",
    "OT_to_BF_raw = datapoint[datapoint['Tool Type'] == 'E']\n",
    "\n",
    "# Input No. 2 Butterfly Pose (Quaternions)\n",
    "# Here we just read from local files for testing\n",
    "OT_to_BF_qt = OT_to_BF_raw[['q0','qx', 'qy', 'qz', 'tx', 'ty', 'tz']]"
   ]
  },
  {
   "cell_type": "code",
   "execution_count": null,
   "id": "c6d4e667",
   "metadata": {},
   "outputs": [],
   "source": [
    "# Calculating Disparity\n",
    "disp = utils.compute_disparity(\n",
    "            MODEL_NAME, model,\n",
    "            TEST_LEFT_IMG, TEST_RIGHT_IMG,\n",
    "            mapL1, mapL2, mapR1, mapR2\n",
    "        )"
   ]
  },
  {
   "cell_type": "code",
   "execution_count": null,
   "id": "c7174475",
   "metadata": {},
   "outputs": [],
   "source": [
    "# Generating Point Cloud\n",
    "pcd = utils.generate_pointcloud(\n",
    "            MODEL_NAME, disp, TEST_LEFT_IMG, mapL1, mapL2, stereo_params['Q']\n",
    "        )"
   ]
  },
  {
   "cell_type": "code",
   "execution_count": null,
   "id": "e0492669",
   "metadata": {},
   "outputs": [],
   "source": [
    "# Transforming CT/MR stl files to Endoscope Frame\n",
    "pcd, mesh_CT = utils.transform_CTMR(STL_PATH, STL_FILES, OT_to_BF_qt, BF_to_EN_test, pcd, CT_to_OT)"
   ]
  },
  {
   "cell_type": "code",
   "execution_count": null,
   "id": "8eb5b8b9",
   "metadata": {},
   "outputs": [],
   "source": [
    "# Visualize Point Cloud and Mesh\n",
    "utils.visualize_pcd_mesh(\n",
    "    pcd, mesh_CT,\n",
    "    front=(0.0, 0.0, 0.001),\n",
    "    lookat=(0.0, 0.0, 0.0),\n",
    "    up=(0.0, 1.0, 0.0)\n",
    ")"
   ]
  }
 ],
 "metadata": {
  "kernelspec": {
   "display_name": "raftstereo",
   "language": "python",
   "name": "python3"
  },
  "language_info": {
   "codemirror_mode": {
    "name": "ipython",
    "version": 3
   },
   "file_extension": ".py",
   "mimetype": "text/x-python",
   "name": "python",
   "nbconvert_exporter": "python",
   "pygments_lexer": "ipython3",
   "version": "3.10.16"
  }
 },
 "nbformat": 4,
 "nbformat_minor": 5
}
